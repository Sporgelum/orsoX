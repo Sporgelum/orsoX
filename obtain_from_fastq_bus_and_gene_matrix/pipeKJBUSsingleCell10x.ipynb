{
 "cells": [
  {
   "cell_type": "code",
   "execution_count": 1,
   "metadata": {
    "scrolled": true
   },
   "outputs": [
    {
     "name": "stdout",
     "output_type": "stream",
     "text": [
      "jeudi 3 octobre 2019, 17:00:37 (UTC+0200)\r\n"
     ]
    }
   ],
   "source": [
    "!date"
   ]
  },
  {
   "cell_type": "markdown",
   "metadata": {},
   "source": [
    "# Starting full process\n",
    "\n",
    "#### Complete the data acquisition and downloading to follow.\n",
    "Full fasta reference of [Danio rerio](ftp://ftp.ensembl.org/pub/release-97/fasta/danio_rerio/cdna/Danio_rerio.GRCz11.cdna.all.fa.gz)\n",
    "\n",
    "10x v2 chemistry barcode [whitelist]( https://github.com/bustools/getting_started/releases/download/getting_started/10xv2_whitelist.txt)\n",
    "\n",
    "Transcripts to Genes (my code*)\n",
    "\n",
    "Genetic data: \n",
    "    - Read 1 FASTQ\n",
    "    - Read 2 FASTQ\n",
    "\n",
    "Install [kallisto](https://pachterlab.github.io/kallisto/download)  \n",
    "Install [bustools](https://bustools.github.io/download)\n",
    "\n",
    "#### For installing stuff, use the following."
   ]
  },
  {
   "cell_type": "code",
   "execution_count": 2,
   "metadata": {},
   "outputs": [],
   "source": [
    "import sys, os \n",
    "import urllib.request\n",
    "from IPython.display import display, Markdown\n"
   ]
  },
  {
   "cell_type": "code",
   "execution_count": 3,
   "metadata": {},
   "outputs": [
    {
     "name": "stdout",
     "output_type": "stream",
     "text": [
      "Requirement already satisfied: scanpy in /home/marius/anaconda3/envs/py36/lib/python3.6/site-packages (1.4.4)\n",
      "Requirement already satisfied: networkx in /home/marius/anaconda3/envs/py36/lib/python3.6/site-packages (from scanpy) (2.3)\n",
      "Requirement already satisfied: joblib in /home/marius/anaconda3/envs/py36/lib/python3.6/site-packages (from scanpy) (0.13.2)\n",
      "Requirement already satisfied: scipy>=1.3 in /home/marius/anaconda3/envs/py36/lib/python3.6/site-packages (from scanpy) (1.3.1)\n",
      "Requirement already satisfied: scikit-learn!=0.21.0,!=0.21.1,>=0.19.1 in /home/marius/anaconda3/envs/py36/lib/python3.6/site-packages (from scanpy) (0.21.3)\n",
      "Requirement already satisfied: h5py in /home/marius/anaconda3/envs/py36/lib/python3.6/site-packages (from scanpy) (2.10.0)\n",
      "Requirement already satisfied: numba>=0.41.0 in /home/marius/anaconda3/envs/py36/lib/python3.6/site-packages (from scanpy) (0.45.1)\n",
      "Requirement already satisfied: tqdm in /home/marius/anaconda3/envs/py36/lib/python3.6/site-packages (from scanpy) (4.35.0)\n",
      "Requirement already satisfied: seaborn in /home/marius/anaconda3/envs/py36/lib/python3.6/site-packages (from scanpy) (0.9.0)\n",
      "Requirement already satisfied: statsmodels>=0.10.0rc2 in /home/marius/anaconda3/envs/py36/lib/python3.6/site-packages (from scanpy) (0.10.1)\n",
      "Requirement already satisfied: tables in /home/marius/anaconda3/envs/py36/lib/python3.6/site-packages (from scanpy) (3.5.2)\n",
      "Requirement already satisfied: natsort in /home/marius/anaconda3/envs/py36/lib/python3.6/site-packages (from scanpy) (6.0.0)\n",
      "Requirement already satisfied: importlib-metadata>=0.7; python_version < \"3.8\" in /home/marius/anaconda3/envs/py36/lib/python3.6/site-packages (from scanpy) (0.19)\n",
      "Requirement already satisfied: patsy in /home/marius/anaconda3/envs/py36/lib/python3.6/site-packages (from scanpy) (0.5.1)\n",
      "Requirement already satisfied: pandas>=0.21 in /home/marius/anaconda3/envs/py36/lib/python3.6/site-packages (from scanpy) (0.24.2)\n",
      "Requirement already satisfied: umap-learn>=0.3.0 in /home/marius/anaconda3/envs/py36/lib/python3.6/site-packages (from scanpy) (0.3.10)\n",
      "Requirement already satisfied: anndata>=0.6.22rc1 in /home/marius/anaconda3/envs/py36/lib/python3.6/site-packages (from scanpy) (0.6.22.post1)\n",
      "Requirement already satisfied: matplotlib==3.0.* in /home/marius/anaconda3/envs/py36/lib/python3.6/site-packages (from scanpy) (3.0.3)\n",
      "Requirement already satisfied: decorator>=4.3.0 in /home/marius/anaconda3/envs/py36/lib/python3.6/site-packages (from networkx->scanpy) (4.4.0)\n",
      "Requirement already satisfied: numpy>=1.13.3 in /home/marius/anaconda3/envs/py36/lib/python3.6/site-packages (from scipy>=1.3->scanpy) (1.16.2)\n",
      "Requirement already satisfied: six in /home/marius/anaconda3/envs/py36/lib/python3.6/site-packages (from h5py->scanpy) (1.12.0)\n",
      "Requirement already satisfied: llvmlite>=0.29.0dev0 in /home/marius/anaconda3/envs/py36/lib/python3.6/site-packages (from numba>=0.41.0->scanpy) (0.29.0)\n",
      "Requirement already satisfied: mock>=2.0 in /home/marius/anaconda3/envs/py36/lib/python3.6/site-packages (from tables->scanpy) (3.0.5)\n",
      "Requirement already satisfied: numexpr>=2.6.2 in /home/marius/anaconda3/envs/py36/lib/python3.6/site-packages (from tables->scanpy) (2.7.0)\n",
      "Requirement already satisfied: zipp>=0.5 in /home/marius/anaconda3/envs/py36/lib/python3.6/site-packages (from importlib-metadata>=0.7; python_version < \"3.8\"->scanpy) (0.6.0)\n",
      "Requirement already satisfied: python-dateutil>=2.5.0 in /home/marius/anaconda3/envs/py36/lib/python3.6/site-packages (from pandas>=0.21->scanpy) (2.8.0)\n",
      "Requirement already satisfied: pytz>=2011k in /home/marius/anaconda3/envs/py36/lib/python3.6/site-packages (from pandas>=0.21->scanpy) (2019.1)\n",
      "Requirement already satisfied: cycler>=0.10 in /home/marius/anaconda3/envs/py36/lib/python3.6/site-packages (from matplotlib==3.0.*->scanpy) (0.10.0)\n",
      "Requirement already satisfied: kiwisolver>=1.0.1 in /home/marius/anaconda3/envs/py36/lib/python3.6/site-packages (from matplotlib==3.0.*->scanpy) (1.0.1)\n",
      "Requirement already satisfied: pyparsing!=2.0.4,!=2.1.2,!=2.1.6,>=2.0.1 in /home/marius/anaconda3/envs/py36/lib/python3.6/site-packages (from matplotlib==3.0.*->scanpy) (2.4.0)\n",
      "Requirement already satisfied: more-itertools in /home/marius/anaconda3/envs/py36/lib/python3.6/site-packages (from zipp>=0.5->importlib-metadata>=0.7; python_version < \"3.8\"->scanpy) (7.2.0)\n",
      "Requirement already satisfied: setuptools in /home/marius/anaconda3/envs/py36/lib/python3.6/site-packages (from kiwisolver>=1.0.1->matplotlib==3.0.*->scanpy) (41.0.0)\n"
     ]
    }
   ],
   "source": [
    "# Install using pip preferably! in the current Jupyter kernel\n",
    "#As example install SCANPY the python package for processing later the gene matrix.\n",
    "#!conda install --yes --prefix {sys.prefix} scanpy \n",
    "!{sys.executable} -m pip install scanpy\n"
   ]
  },
  {
   "cell_type": "markdown",
   "metadata": {},
   "source": [
    "### Set location and create the files distribution, for files results, downloads, processing and notebooks...\n"
   ]
  },
  {
   "cell_type": "code",
   "execution_count": 4,
   "metadata": {
    "scrolled": true
   },
   "outputs": [
    {
     "data": {
      "text/plain": [
       "'/mnt/haus/marius/old_SingleCell10xKallistoJupyter/JupyterNotebooks'"
      ]
     },
     "execution_count": 4,
     "metadata": {},
     "output_type": "execute_result"
    }
   ],
   "source": [
    "os.getcwd()\n",
    "#Move to a new location which we create for the analysis."
   ]
  },
  {
   "cell_type": "code",
   "execution_count": 5,
   "metadata": {
    "scrolled": true
   },
   "outputs": [],
   "source": [
    "#Set the path where we will work and create the folders tree.\n",
    "os.mkdir(\"/mnt/haus/marius/SingleCell10xKallistoJupyter\")\n",
    "os.chdir(\"/mnt/haus/marius/SingleCell10xKallistoJupyter\")\n"
   ]
  },
  {
   "cell_type": "code",
   "execution_count": 6,
   "metadata": {
    "scrolled": true
   },
   "outputs": [
    {
     "name": "stdout",
     "output_type": "stream",
     "text": [
      "Created file: ensemblData\n",
      "Created file: JupyterNotebooks\n",
      "Created file: busOutputs\n",
      "Created file: bashScripts\n",
      "Created file: kallistoOutputs\n",
      "Files listed in the current directory:  ['JupyterNotebooks', 'ensemblData', 'busOutputs', 'bashScripts', 'kallistoOutputs']\n"
     ]
    }
   ],
   "source": [
    "#Create the main directory, and add the subfolders desired in a list.\n",
    "subfolders=[\"ensemblData\",\"JupyterNotebooks\",\"busOutputs\",\"bashScripts\",\"kallistoOutputs\"]\n",
    "for i in subfolders:\n",
    "    print(\"Created file:\" ,i)\n",
    "    os.mkdir(os.path.join(os.getcwd())+\"/\"+i)\n",
    "print(\"Files listed in the current directory: \",os.listdir())"
   ]
  },
  {
   "cell_type": "markdown",
   "metadata": {},
   "source": [
    "#### Get data from ensembl for the following steps\n",
    "    Download each file in a folder and name it in the ensemblData."
   ]
  },
  {
   "cell_type": "code",
   "execution_count": 7,
   "metadata": {},
   "outputs": [
    {
     "name": "stdout",
     "output_type": "stream",
     "text": [
      "\n",
      "Beginning file download with wget module\n",
      "→ Download completed for: Danio_rerio.GRCz11.cdna.all.fa.gz\n",
      "→ Download completed for: Danio_rerio.GRCz11.97.gff3.gz\n",
      "→ Download completed for: Danio_rerio.GRCz11.97.gtf.gz\n",
      "\n",
      "Download Done\n"
     ]
    }
   ],
   "source": [
    "import urllib.request\n",
    "print('\\nBeginning file download with wget module')\n",
    "\n",
    "ensembl_downloads={\"cdna\":\"ftp://ftp.ensembl.org/pub/release-97/fasta/danio_rerio/cdna/Danio_rerio.GRCz11.cdna.all.fa.gz\",\n",
    "                   \"gff\":\"ftp://ftp.ensembl.org/pub/release-97/gff3/danio_rerio/Danio_rerio.GRCz11.97.gff3.gz\",\n",
    "                   \"gtf\":\"ftp://ftp.ensembl.org/pub/release-97/gtf/danio_rerio/Danio_rerio.GRCz11.97.gtf.gz\"}\n",
    "\n",
    "\n",
    "downloads_folder=\"/mnt/haus/marius/SingleCell10xKallistoJupyter/ensemblData/\"\n",
    "\n",
    "#Download all in their respective folders...:\n",
    "for k,v in ensembl_downloads.items():\n",
    "    os.mkdir(os.path.join(downloads_folder+k+\"/\"))\n",
    "    urllib.request.urlretrieve(v,os.path.join(downloads_folder + k+\"/\"+os.path.basename(v)))\n",
    "    print(\"→ Download completed for: \"+ os.path.basename(v))\n",
    "                  \n",
    "print(\"\\nDownload Done\")\n"
   ]
  },
  {
   "cell_type": "markdown",
   "metadata": {},
   "source": [
    "### Create the index using  ENMSEBL cdna last version of _Danio rerio_\n"
   ]
  },
  {
   "cell_type": "code",
   "execution_count": 8,
   "metadata": {},
   "outputs": [],
   "source": [
    "idx=os.path.basename(ensembl_downloads[\"cdna\"]).strip(\".gz\")+\".idx\"\n",
    "idx=os.path.join(\"/mnt/haus/marius/SingleCell10xKallistoJupyter/kallistoOutputs/\"+idx)\n",
    "reference_cdna=\"/mnt/haus/marius/SingleCell10xKallistoJupyter/ensemblData/cdna/Danio_rerio.GRCz11.cdna.all.fa.gz\""
   ]
  },
  {
   "cell_type": "code",
   "execution_count": 9,
   "metadata": {
    "scrolled": true
   },
   "outputs": [
    {
     "data": {
      "text/markdown": [
       "### Use `!kallisto index -i` followed by `path for the new index name` and `cdna fasta file`"
      ],
      "text/plain": [
       "<IPython.core.display.Markdown object>"
      ]
     },
     "metadata": {},
     "output_type": "display_data"
    },
    {
     "name": "stdout",
     "output_type": "stream",
     "text": [
      "Use the path for the index name: /mnt/haus/marius/SingleCell10xKallistoJupyter/kallistoOutputs/Danio_rerio.GRCz11.cdna.all.fa.idx\n",
      "\n",
      "and the path for the reference fasta: /mnt/haus/marius/SingleCell10xKallistoJupyter/ensemblData/cdna/Danio_rerio.GRCz11.cdna.all.fa.gz\n"
     ]
    }
   ],
   "source": [
    "from IPython.display import display, Markdown\n",
    "\n",
    "display(Markdown(\"### Use `!kallisto index -i` followed by `path for the new index name` and `cdna fasta file`\"))\n",
    "print(\"Use the path for the index name: \"+ idx + \"\\n\\n\" + \"and the path for the reference fasta: \"+ reference_cdna)"
   ]
  },
  {
   "cell_type": "code",
   "execution_count": 10,
   "metadata": {
    "scrolled": true
   },
   "outputs": [
    {
     "name": "stdout",
     "output_type": "stream",
     "text": [
      "\n",
      "[build] loading fasta file /mnt/haus/marius/SingleCell10xKallistoJupyter/ensemblData/cdna/Danio_rerio.GRCz11.cdna.all.fa.gz\n",
      "[build] k-mer length: 31\n",
      "[build] warning: clipped off poly-A tail (longer than 10)\n",
      "        from 364 target sequences\n",
      "[build] warning: replaced 9065 non-ACGUT characters in the input sequence\n",
      "        with pseudorandom nucleotides\n",
      "[build] counting k-mers ... done.\n",
      "[build] building target de Bruijn graph ...  done \n",
      "[build] creating equivalence classes ...  done\n",
      "[build] target de Bruijn graph has 445371 contigs and contains 68180911 k-mers \n",
      "\n"
     ]
    }
   ],
   "source": [
    "!kallisto index -i /mnt/haus/marius/SingleCell10xKallistoJupyter/kallistoOutputs/Danio_rerio.GRCz11.cdna.all.fa.idx /mnt/haus/marius/SingleCell10xKallistoJupyter/ensemblData/cdna/Danio_rerio.GRCz11.cdna.all.fa.gz\n",
    " "
   ]
  },
  {
   "cell_type": "code",
   "execution_count": 13,
   "metadata": {},
   "outputs": [
    {
     "data": {
      "text/markdown": [
       "### In this case create the two samples which are going to be used, for an easier data storage"
      ],
      "text/plain": [
       "<IPython.core.display.Markdown object>"
      ]
     },
     "metadata": {},
     "output_type": "display_data"
    }
   ],
   "source": [
    "display(Markdown(\"### In this case create the two samples which are going to be used, for an easier data storage\"))"
   ]
  },
  {
   "cell_type": "markdown",
   "metadata": {},
   "source": [
    "# Control "
   ]
  },
  {
   "cell_type": "code",
   "execution_count": 15,
   "metadata": {
    "scrolled": false
   },
   "outputs": [
    {
     "data": {
      "text/markdown": [
       "#### Run kallisto for Control Sample\n",
       " `!kallisto bus -i` followed by `the index generated before` then `-o the output path and name` then `-x 10xv2 chemistry used` then `-t 6 threads wanted` and reads `R1` and `R2` files"
      ],
      "text/plain": [
       "<IPython.core.display.Markdown object>"
      ]
     },
     "metadata": {},
     "output_type": "display_data"
    },
    {
     "name": "stdout",
     "output_type": "stream",
     "text": [
      "In this case create the two samples which are going to be used, for an easier data storage\n",
      "The index generated before: /mnt/haus/marius/SingleCell10xKallistoJupyter/kallistoOutputs/Danio_rerio.GRCz11.cdna.all.fa.idx\n",
      "The output path and name: /mnt/haus/marius/SingleCell10xKallistoJupyter/busOutputs/control\n",
      "The chemistry used: -x *10xv2* or 10xv3\n",
      "The number of threads: -t 7\n",
      "The reads for R1 path: /mnt/haus/marius/ines_data/Raw-data/Results-15102018/Control/wt1aOE_L1_R1.fastq.gz\n",
      "The reads for R2 path: /mnt/haus/marius/ines_data/Raw-data/Results-15102018/Control/wt1aOE_L1_R2.fastq.gz\n"
     ]
    }
   ],
   "source": [
    "display(Markdown(\"#### Run kallisto for Control Sample\\n `!kallisto bus -i` followed by `the index generated before` then `-o the output path and name` then `-x 10xv2 chemistry used` then `-t 6 threads wanted` and reads `R1` and `R2` files\"))\n",
    "\n",
    "print(\"In this case create the two samples which are going to be used, for an easier data storage\")\n",
    "os.mkdir(\"/mnt/haus/marius/SingleCell10xKallistoJupyter/busOutputs/control\")\n",
    "\n",
    "print(\"The index generated before: \" + str(\"/mnt/haus/marius/SingleCell10xKallistoJupyter/kallistoOutputs/Danio_rerio.GRCz11.cdna.all.fa.idx\") +  \n",
    "      \"\\nThe output path and name: \" + str(\"/mnt/haus/marius/SingleCell10xKallistoJupyter/busOutputs/control\") +  \n",
    "      \"\\nThe chemistry used: \" + str(\"-x *10xv2* or 10xv3\")+  \n",
    "      \"\\nThe number of threads: \" + str(\"-t 7\")+  \n",
    "      \"\\nThe reads for R1 path: \"+str(\"/mnt/haus/marius/ines_data/Raw-data/Results-15102018/Control/wt1aOE_L1_R1.fastq.gz\")+  \n",
    "      \"\\nThe reads for R2 path: \"+str(\"/mnt/haus/marius/ines_data/Raw-data/Results-15102018/Control/wt1aOE_L1_R2.fastq.gz\"))"
   ]
  },
  {
   "cell_type": "code",
   "execution_count": 16,
   "metadata": {
    "scrolled": false
   },
   "outputs": [
    {
     "name": "stdout",
     "output_type": "stream",
     "text": [
      "\n",
      "[index] k-mer length: 31\n",
      "[index] number of targets: 57,775\n",
      "[index] number of k-mers: 68,180,911\n",
      "[index] number of equivalence classes: 208,724\n",
      "[quant] will process sample 1: /mnt/haus/marius/ines_data/Raw-data/Results-15102018/Control/wt1aOE_L1_R1.fastq.gz\n",
      "                               /mnt/haus/marius/ines_data/Raw-data/Results-15102018/Control/wt1aOE_L1_R2.fastq.gz\n",
      "[quant] finding pseudoalignments for the reads ... done\n",
      "[quant] processed 497,902,159 reads, 434,150,057 reads pseudoaligned\n"
     ]
    }
   ],
   "source": [
    "!kallisto bus -i /mnt/haus/marius/SingleCell10xKallistoJupyter/kallistoOutputs/Danio_rerio.GRCz11.cdna.all.fa.idx -o /mnt/haus/marius/SingleCell10xKallistoJupyter/busOutputs/control -x 10xv2 -t 7 /mnt/haus/marius/ines_data/Raw-data/Results-15102018/Control/wt1aOE_L1_R1.fastq.gz /mnt/haus/marius/ines_data/Raw-data/Results-15102018/Control/wt1aOE_L1_R2.fastq.gz  "
   ]
  },
  {
   "cell_type": "markdown",
   "metadata": {},
   "source": [
    "# Experimental"
   ]
  },
  {
   "cell_type": "code",
   "execution_count": 17,
   "metadata": {},
   "outputs": [
    {
     "data": {
      "text/markdown": [
       "#### Run kallisto for Experimental Sample\n",
       " `!kallisto bus -i` followed by `the index generated before` then `-o the output path and name` then `-x 10xv2 chemistry used` then `-t 6 threads wanted` and reads `R1` and `R2` files"
      ],
      "text/plain": [
       "<IPython.core.display.Markdown object>"
      ]
     },
     "metadata": {},
     "output_type": "display_data"
    },
    {
     "name": "stdout",
     "output_type": "stream",
     "text": [
      "The index generated before: /mnt/haus/marius/SingleCell10xKallistoJupyter/kallistoOutputs/Danio_rerio.GRCz11.cdna.all.fa.idx\n",
      "The output path and name: /mnt/haus/marius/SingleCell10xKallistoJupyter/busOutputs/experimental\n",
      "The chemistry used: -x *10xv2* or 10xv3\n",
      "The number of threads: -t 7\n",
      "The reads for R1 path: /mnt/haus/marius/ines_data/Raw-data/Results-15102018/Experimental/wt1aOE4OHT_L1_R1.fastq.gz\n",
      "The reads for R2 path: /mnt/haus/marius/ines_data/Raw-data/Results-15102018/Experimental/wt1aOE4OHT_L1_R2.fastq.gz\n"
     ]
    }
   ],
   "source": [
    "display(Markdown(\"#### Run kallisto for Experimental Sample\\n `!kallisto bus -i` followed by `the index generated before` then `-o the output path and name` then `-x 10xv2 chemistry used` then `-t 6 threads wanted` and reads `R1` and `R2` files\"))\n",
    "\n",
    "os.mkdir(\"/mnt/haus/marius/SingleCell10xKallistoJupyter/busOutputs/experimental\")\n",
    "\n",
    "print(\"The index generated before: \" + str(\"/mnt/haus/marius/SingleCell10xKallistoJupyter/kallistoOutputs/Danio_rerio.GRCz11.cdna.all.fa.idx\") +  \n",
    "      \"\\nThe output path and name: \" + str(\"/mnt/haus/marius/SingleCell10xKallistoJupyter/busOutputs/experimental\") +  \n",
    "      \"\\nThe chemistry used: \" + str(\"-x *10xv2* or 10xv3\")+  \n",
    "      \"\\nThe number of threads: \" + str(\"-t 7\")+  \n",
    "      \"\\nThe reads for R1 path: \"+str(\"/mnt/haus/marius/ines_data/Raw-data/Results-15102018/Experimental/wt1aOE4OHT_L1_R1.fastq.gz\")+  \n",
    "      \"\\nThe reads for R2 path: \"+str(\"/mnt/haus/marius/ines_data/Raw-data/Results-15102018/Experimental/wt1aOE4OHT_L1_R2.fastq.gz\"))"
   ]
  },
  {
   "cell_type": "code",
   "execution_count": 18,
   "metadata": {},
   "outputs": [
    {
     "name": "stdout",
     "output_type": "stream",
     "text": [
      "\n",
      "[index] k-mer length: 31\n",
      "[index] number of targets: 57,775\n",
      "[index] number of k-mers: 68,180,911\n",
      "[index] number of equivalence classes: 208,724\n",
      "[quant] will process sample 1: /mnt/haus/marius/ines_data/Raw-data/Results-15102018/Experimental/wt1aOE4OHT_L1_R1.fastq.gz\n",
      "                               /mnt/haus/marius/ines_data/Raw-data/Results-15102018/Experimental/wt1aOE4OHT_L1_R2.fastq.gz\n",
      "[quant] finding pseudoalignments for the reads ... done\n",
      "[quant] processed 451,131,247 reads, 387,175,364 reads pseudoaligned\n"
     ]
    }
   ],
   "source": [
    "!kallisto bus -i /mnt/haus/marius/SingleCell10xKallistoJupyter/kallistoOutputs/Danio_rerio.GRCz11.cdna.all.fa.idx -o /mnt/haus/marius/SingleCell10xKallistoJupyter/busOutputs/experimental/ -x 10xv2 -t 7 /mnt/haus/marius/ines_data/Raw-data/Results-15102018/Experimental/wt1aOE4OHT_L1_R1.fastq.gz /mnt/haus/marius/ines_data/Raw-data/Results-15102018/Experimental/wt1aOE4OHT_L1_R2.fastq.gz"
   ]
  },
  {
   "cell_type": "markdown",
   "metadata": {},
   "source": [
    "## Files ready for BUS processing\n",
    "\n",
    "### Start processing the BUS file with bustools\n",
    "                 \n",
    "  \n",
    "    1. Correct the barcodes using bustools correct: fix the barcodes that are within one hamming distance of the barcodes in the whitelist using whitelist.txt\n",
    "    2. Sort the busfile using bustools sort: organize the busfile by barcode, UMI, set, and multiplicity, and\n",
    "    3. Count records in the BUS with bustools count: generate the UMI count matrix using transcripts_to_genes.txt.\n"
   ]
  },
  {
   "cell_type": "code",
   "execution_count": 19,
   "metadata": {
    "scrolled": true
   },
   "outputs": [
    {
     "data": {
      "text/plain": [
       "'/mnt/haus/marius/SingleCell10xKallistoJupyter'"
      ]
     },
     "execution_count": 19,
     "metadata": {},
     "output_type": "execute_result"
    }
   ],
   "source": [
    "os.getcwd()"
   ]
  },
  {
   "cell_type": "markdown",
   "metadata": {},
   "source": [
    "# Start correcting CONTROL samples\n",
    "*double check for paths*"
   ]
  },
  {
   "cell_type": "code",
   "execution_count": 20,
   "metadata": {
    "scrolled": true
   },
   "outputs": [
    {
     "data": {
      "text/markdown": [
       "# Control"
      ],
      "text/plain": [
       "<IPython.core.display.Markdown object>"
      ]
     },
     "metadata": {},
     "output_type": "display_data"
    },
    {
     "name": "stdout",
     "output_type": "stream",
     "text": [
      "Move to the folder containing the control sample and proceed to create the gene matrix.\n",
      "download the whitelist from 10x using v2 chemistry\n",
      "→ Download completed for: 10xv2_whitelist.txt\n"
     ]
    }
   ],
   "source": [
    "#from IPython.display import display, Markdown\n",
    "display(Markdown(\"# Control\"))\n",
    "\n",
    "#Change directory and start with the control sample.\n",
    "print(\"Move to the folder containing the control sample and proceed to create the gene matrix.\")\n",
    "os.chdir(\"/mnt/haus/marius/SingleCell10xKallistoJupyter/busOutputs/control\")\n",
    "os.listdir()\n",
    "\n",
    "print(\"download the whitelist from 10x using v2 chemistry\")\n",
    "wtl_url=\"https://github.com/bustools/getting_started/releases/download/getting_started/10xv2_whitelist.txt\"\n",
    "urllib.request.urlretrieve(wtl_url,os.path.join(\"/mnt/haus/marius/SingleCell10xKallistoJupyter/\"+os.path.basename(wtl_url)))\n",
    "print(\"→ Download completed for: \"+ os.path.basename(wtl_url))\n",
    "os.mkdir(\"/mnt/haus/marius/SingleCell10xKallistoJupyter/busOutputs/control/genecount\")\n",
    "os.mkdir(\"/mnt/haus/marius/SingleCell10xKallistoJupyter/busOutputs/control/tmp\")"
   ]
  },
  {
   "cell_type": "markdown",
   "metadata": {},
   "source": [
    "#### To make the Gene Count Matrix we need bustools\n",
    "\n",
    "##### Create a new folder for data storing.\n",
    "\n",
    "Run the command with  `!` in local PC shell\n",
    "Commands used: `!bustools correct`  \n",
    "\n",
    "1. Use the whitelist, 10xv2 chemistry  \n",
    "`-w /mnt/haus/marius/SingleCell10xKallistoJupyter/10xv2_whitelist.txt`  \n",
    "\n",
    "2. The original bus file from the sample.  \n",
    "`-p /mnt/haus/marius/SingleCell10xKallistoJupyter/busOutputs/control/output.bus |`  \n",
    "\n",
    "3. Continue the pipe with the temporal file used for the sorting step. Using the temporal path created before and teh number of threads for the step...  \n",
    "`bustools sort -T /mnt/haus/marius/SingleCell10xKallistoJupyter/busOutputs/control/tmp/ -t6 -p - |`\n",
    "\n",
    "4. Continue with the pipe for the counting step.Using in the order established:  the new path for the genecounts, the transcriptstogenes file generated with t2g.py, the matrix of the bus output and the transcripts of the original BUSfile.  \n",
    "\n",
    "`bustools count -o /mnt/haus/marius/SingleCell10xKallistoJupyter/busOutputs/control/genecount/genes -g /mnt/haus/marius/SingleCell10xKallistoJupyter/transcripts_to_genes.txt -e /mnt/haus/marius/SingleCell10xKallistoJupyter/busOutputs/control/matrix.ec -t /mnt/haus/marius/SingleCell10xKallistoJupyter/busOutputs/control/transcripts.txt --genecounts -`\n",
    "\n",
    "### Important\n",
    "\n",
    "   5.Appreciate at the end the `--genecounts -`"
   ]
  },
  {
   "cell_type": "code",
   "execution_count": 26,
   "metadata": {
    "scrolled": true
   },
   "outputs": [
    {
     "name": "stdout",
     "output_type": "stream",
     "text": [
      "Found 737280 barcodes in the whitelist\n",
      "Number of hamming dist 1 barcodes = 20550336\n",
      "Processed 434150057 bus records\n",
      "In whitelist = 421195659\n",
      "Corrected = 3393121\n",
      "Uncorrected = 9561277\n",
      "Read in 424588780 BUS records\n"
     ]
    }
   ],
   "source": [
    "!bustools correct -w /mnt/haus/marius/SingleCell10xKallistoJupyter/10xv2_whitelist.txt -p /mnt/haus/marius/SingleCell10xKallistoJupyter/busOutputs/control/output.bus |bustools sort -T /mnt/haus/marius/SingleCell10xKallistoJupyter/busOutputs/control/tmp/ -t6 -p - |bustools count -o /mnt/haus/marius/SingleCell10xKallistoJupyter/busOutputs/control/genecount/genes -g /mnt/haus/marius/SingleCell10xKallistoJupyter/transcripts_to_genes.txt -e /mnt/haus/marius/SingleCell10xKallistoJupyter/busOutputs/control/matrix.ec -t /mnt/haus/marius/SingleCell10xKallistoJupyter/busOutputs/control/transcripts.txt --genecounts -"
   ]
  },
  {
   "cell_type": "markdown",
   "metadata": {},
   "source": [
    "# Start correcting EXPERIMENTAL samples\n",
    "*double check for paths*"
   ]
  },
  {
   "cell_type": "code",
   "execution_count": 27,
   "metadata": {},
   "outputs": [
    {
     "data": {
      "text/markdown": [
       "# Experimental"
      ],
      "text/plain": [
       "<IPython.core.display.Markdown object>"
      ]
     },
     "metadata": {},
     "output_type": "display_data"
    },
    {
     "name": "stdout",
     "output_type": "stream",
     "text": [
      "Move to the folder containing the control sample and proceed to create the gene matrix.\n"
     ]
    },
    {
     "ename": "FileExistsError",
     "evalue": "[Errno 17] File exists: '/mnt/haus/marius/SingleCell10xKallistoJupyter/busOutputs/experimental/genecount'",
     "output_type": "error",
     "traceback": [
      "\u001b[0;31m---------------------------------------------------------------------------\u001b[0m",
      "\u001b[0;31mFileExistsError\u001b[0m                           Traceback (most recent call last)",
      "\u001b[0;32m<ipython-input-27-9cd9f9c66da2>\u001b[0m in \u001b[0;36m<module>\u001b[0;34m\u001b[0m\n\u001b[1;32m      6\u001b[0m \u001b[0mos\u001b[0m\u001b[0;34m.\u001b[0m\u001b[0mchdir\u001b[0m\u001b[0;34m(\u001b[0m\u001b[0;34m\"/mnt/haus/marius/SingleCell10xKallistoJupyter/busOutputs/experimental/\"\u001b[0m\u001b[0;34m)\u001b[0m\u001b[0;34m\u001b[0m\u001b[0;34m\u001b[0m\u001b[0m\n\u001b[1;32m      7\u001b[0m \u001b[0mos\u001b[0m\u001b[0;34m.\u001b[0m\u001b[0mlistdir\u001b[0m\u001b[0;34m(\u001b[0m\u001b[0;34m)\u001b[0m\u001b[0;34m\u001b[0m\u001b[0;34m\u001b[0m\u001b[0m\n\u001b[0;32m----> 8\u001b[0;31m \u001b[0mos\u001b[0m\u001b[0;34m.\u001b[0m\u001b[0mmkdir\u001b[0m\u001b[0;34m(\u001b[0m\u001b[0;34m\"/mnt/haus/marius/SingleCell10xKallistoJupyter/busOutputs/experimental/genecount\"\u001b[0m\u001b[0;34m)\u001b[0m\u001b[0;34m\u001b[0m\u001b[0;34m\u001b[0m\u001b[0m\n\u001b[0m\u001b[1;32m      9\u001b[0m \u001b[0mos\u001b[0m\u001b[0;34m.\u001b[0m\u001b[0mmkdir\u001b[0m\u001b[0;34m(\u001b[0m\u001b[0;34m\"/mnt/haus/marius/SingleCell10xKallistoJupyter/busOutputs/experimental/tmp\"\u001b[0m\u001b[0;34m)\u001b[0m\u001b[0;34m\u001b[0m\u001b[0;34m\u001b[0m\u001b[0m\n",
      "\u001b[0;31mFileExistsError\u001b[0m: [Errno 17] File exists: '/mnt/haus/marius/SingleCell10xKallistoJupyter/busOutputs/experimental/genecount'"
     ]
    }
   ],
   "source": [
    "#from IPython.display import display, Markdown\n",
    "display(Markdown(\"# Experimental\"))\n",
    "\n",
    "#Change directory and start with the control sample.\n",
    "print(\"Move to the folder containing the control sample and proceed to create the gene matrix.\")\n",
    "os.chdir(\"/mnt/haus/marius/SingleCell10xKallistoJupyter/busOutputs/experimental/\")\n",
    "os.listdir()\n",
    "os.mkdir(\"/mnt/haus/marius/SingleCell10xKallistoJupyter/busOutputs/experimental/genecount\")\n",
    "os.mkdir(\"/mnt/haus/marius/SingleCell10xKallistoJupyter/busOutputs/experimental/tmp\")"
   ]
  },
  {
   "cell_type": "markdown",
   "metadata": {},
   "source": [
    "#### To make the Gene Count Matrix we need bustools\n",
    "\n",
    "##### Create a new folder for data storing.\n",
    "\n",
    "Run the command with  `!` in local PC shell\n",
    "Commands used: `!bustools correct`  \n",
    "\n",
    "1. Use the whitelist, 10xv2 chemistry  \n",
    "`-w /mnt/haus/marius/SingleCell10xKallistoJupyter/10xv2_whitelist.txt`  \n",
    "\n",
    "2. The original bus file from the sample.  \n",
    "`-p /mnt/haus/marius/SingleCell10xKallistoJupyter/busOutputs/experimental/output.bus |`  \n",
    "\n",
    "3. Continue the pipe with the temporal file used for the sorting step. Using the temporal path created before and teh number of threads for the step...  \n",
    "`bustools sort -T /mnt/haus/marius/SingleCell10xKallistoJupyter/busOutputs/experimental/tmp/ -t6 -p - |`\n",
    "\n",
    "4. Continue with the pipe for the counting step.Using in the order established:  the new path for the genecounts, the transcriptstogenes file generated with t2g.py, the matrix of the bus output and the transcripts of the original BUSfile.  \n",
    "\n",
    "`bustools count -o /mnt/haus/marius/SingleCell10xKallistoJupyter/busOutputs/experimental/genecount/genes -g /mnt/haus/marius/SingleCell10xKallistoJupyter/transcripts_to_genes.txt -e /mnt/haus/marius/SingleCell10xKallistoJupyter/busOutputs/experimental/matrix.ec -t /mnt/haus/marius/SingleCell10xKallistoJupyter/busOutputs/experimental/transcripts.txt --genecounts -`\n",
    "\n",
    "### Important\n",
    "\n",
    "   5.Appreciate at the end the `--genecounts -`"
   ]
  },
  {
   "cell_type": "code",
   "execution_count": 28,
   "metadata": {},
   "outputs": [
    {
     "name": "stdout",
     "output_type": "stream",
     "text": [
      "Found 737280 barcodes in the whitelist\n",
      "Number of hamming dist 1 barcodes = 20550336\n",
      "Processed 387175364 bus records\n",
      "In whitelist = 375570014\n",
      "Corrected = 2951535\n",
      "Uncorrected = 8653815\n",
      "Read in 378521549 BUS records\n"
     ]
    }
   ],
   "source": [
    "!bustools correct -w /mnt/haus/marius/SingleCell10xKallistoJupyter/10xv2_whitelist.txt -p /mnt/haus/marius/SingleCell10xKallistoJupyter/busOutputs/experimental/output.bus |bustools sort -T /mnt/haus/marius/SingleCell10xKallistoJupyter/busOutputs/experimental/tmp/ -t6 -p - |bustools count -o /mnt/haus/marius/SingleCell10xKallistoJupyter/busOutputs/experimental/genecount/genes -g /mnt/haus/marius/SingleCell10xKallistoJupyter/transcripts_to_genes.txt -e /mnt/haus/marius/SingleCell10xKallistoJupyter/busOutputs/experimental/matrix.ec -t /mnt/haus/marius/SingleCell10xKallistoJupyter/busOutputs/experimental/transcripts.txt --genecounts -"
   ]
  },
  {
   "cell_type": "code",
   "execution_count": null,
   "metadata": {},
   "outputs": [],
   "source": [
    "display(Markdown(\"# Samples ready to start using Seurat or Scanpy\"))"
   ]
  },
  {
   "cell_type": "markdown",
   "metadata": {},
   "source": [
    "### Load the content in scanpy and proceed the analysis and clustering with scanpy\n",
    "\n",
    "#### Use the next notebook\n",
    "    Control\n",
    "    Experimental"
   ]
  },
  {
   "cell_type": "markdown",
   "metadata": {},
   "source": [
    "### "
   ]
  },
  {
   "cell_type": "code",
   "execution_count": null,
   "metadata": {},
   "outputs": [],
   "source": []
  },
  {
   "cell_type": "code",
   "execution_count": null,
   "metadata": {},
   "outputs": [],
   "source": []
  }
 ],
 "metadata": {
  "kernelspec": {
   "display_name": "Python 3",
   "language": "python",
   "name": "python3"
  },
  "language_info": {
   "codemirror_mode": {
    "name": "ipython",
    "version": 3
   },
   "file_extension": ".py",
   "mimetype": "text/x-python",
   "name": "python",
   "nbconvert_exporter": "python",
   "pygments_lexer": "ipython3",
   "version": "3.6.8"
  }
 },
 "nbformat": 4,
 "nbformat_minor": 2
}
