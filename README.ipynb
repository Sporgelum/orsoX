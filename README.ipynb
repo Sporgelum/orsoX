{
 "cells": [
  {
   "cell_type": "markdown",
   "metadata": {},
   "source": [
    "# ORSOX \n",
    "    \n",
    "Name: (Kallist**O** » Jupyte**R** » BUStool**S** » Rstudi**O** » 10**X**)"
   ]
  },
  {
   "cell_type": "markdown",
   "metadata": {},
   "source": [
    "#### 10Xv2 single cell RNA seq analysis using the following tools:  \n",
    "\n",
    "   * Kallisto for:  \n",
    "        + Indexing .  \n",
    "        + Pseudomapping.  \n",
    "   * BUStools for:  \n",
    "        + Correct.  \n",
    "        + Sort.  \n",
    "        + Count.  \n",
    "   * RStudio for:\n",
    "        + transforming SYMBOLS → ENTREZgeneID.  \n",
    "        + Over Representation Analysis (ORA) annotation of the genes for each cluster.  \n",
    "        \n",
    "       \n",
    "       \n",
    "Find the jupyter notebooks for the analysis steps followed with Kallisto and ScanPy, divided in two steps:\n",
    "   * 1st, getting ready up to the gene matrix.\n",
    "   * 2nd, analysis of the data using ScanPy and RStudio scripts, for annotating the data.   "
   ]
  },
  {
   "cell_type": "code",
   "execution_count": null,
   "metadata": {},
   "outputs": [],
   "source": []
  },
  {
   "cell_type": "code",
   "execution_count": null,
   "metadata": {},
   "outputs": [],
   "source": []
  },
  {
   "cell_type": "code",
   "execution_count": null,
   "metadata": {},
   "outputs": [],
   "source": []
  },
  {
   "cell_type": "code",
   "execution_count": null,
   "metadata": {},
   "outputs": [],
   "source": []
  },
  {
   "cell_type": "code",
   "execution_count": null,
   "metadata": {},
   "outputs": [],
   "source": []
  }
 ],
 "metadata": {
  "kernelspec": {
   "display_name": "Python 3",
   "language": "python",
   "name": "python3"
  },
  "language_info": {
   "codemirror_mode": {
    "name": "ipython",
    "version": 3
   },
   "file_extension": ".py",
   "mimetype": "text/x-python",
   "name": "python",
   "nbconvert_exporter": "python",
   "pygments_lexer": "ipython3",
   "version": "3.6.8"
  }
 },
 "nbformat": 4,
 "nbformat_minor": 2
}
